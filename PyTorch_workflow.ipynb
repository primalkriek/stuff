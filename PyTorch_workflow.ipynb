{
  "nbformat": 4,
  "nbformat_minor": 0,
  "metadata": {
    "colab": {
      "provenance": [],
      "authorship_tag": "ABX9TyPum6jKpdCA2CLsjjQ2TtJt",
      "include_colab_link": true
    },
    "kernelspec": {
      "name": "python3",
      "display_name": "Python 3"
    },
    "language_info": {
      "name": "python"
    }
  },
  "cells": [
    {
      "cell_type": "markdown",
      "metadata": {
        "id": "view-in-github",
        "colab_type": "text"
      },
      "source": [
        "<a href=\"https://colab.research.google.com/github/primalkriek/stuff/blob/main/PyTorch_workflow.ipynb\" target=\"_parent\"><img src=\"https://colab.research.google.com/assets/colab-badge.svg\" alt=\"Open In Colab\"/></a>"
      ]
    },
    {
      "cell_type": "code",
      "execution_count": null,
      "metadata": {
        "id": "9vXMTdDqlwtA"
      },
      "outputs": [],
      "source": [
        "### pytorch workflow\n",
        "\n",
        "- get data ready (turn into tensors)\n",
        "- build or pick a pre trained model (that suits the problem) -> pick a loss function -> build a training loop\n",
        "- fit the model to make a prediction\n",
        "- evaluate the model\n",
        "- improve through experimentation\n",
        "- save and relead your pre trained model"
      ]
    }
  ]
}