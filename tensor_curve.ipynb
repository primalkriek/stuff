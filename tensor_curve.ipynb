{
  "nbformat": 4,
  "nbformat_minor": 0,
  "metadata": {
    "colab": {
      "provenance": [],
      "authorship_tag": "ABX9TyMB6hLEOZqEnOIfx5Ky4sZb",
      "include_colab_link": true
    },
    "kernelspec": {
      "name": "python3",
      "display_name": "Python 3"
    },
    "language_info": {
      "name": "python"
    }
  },
  "cells": [
    {
      "cell_type": "markdown",
      "metadata": {
        "id": "view-in-github",
        "colab_type": "text"
      },
      "source": [
        "<a href=\"https://colab.research.google.com/github/primalkriek/stuff/blob/main/tensor_curve.ipynb\" target=\"_parent\"><img src=\"https://colab.research.google.com/assets/colab-badge.svg\" alt=\"Open In Colab\"/></a>"
      ]
    },
    {
      "cell_type": "markdown",
      "source": [
        "startup"
      ],
      "metadata": {
        "id": "L6fDnUA-b9Tt"
      }
    },
    {
      "cell_type": "code",
      "source": [
        "import torch\n",
        "import pandas as pd\n",
        "import numpy as np\n",
        "import matplotlib as plt\n",
        "print(torch.__version__)"
      ],
      "metadata": {
        "id": "53F0olUAb6cV",
        "colab": {
          "base_uri": "https://localhost:8080/"
        },
        "outputId": "df2c8fd2-a321-45ed-c62e-c67c0e65da85"
      },
      "execution_count": null,
      "outputs": [
        {
          "output_type": "stream",
          "name": "stdout",
          "text": [
            "2.0.1+cu118\n"
          ]
        }
      ]
    },
    {
      "cell_type": "markdown",
      "source": [
        "introduction tensors\n",
        "creating a tensor with torch.tensor() reference: https://pytorch.org/docs/stable/tensors.html"
      ],
      "metadata": {
        "id": "j-kweD9rbzJi"
      }
    },
    {
      "cell_type": "code",
      "source": [
        "#scalar\n",
        "scalar = torch.tensor(7)\n",
        "scalar"
      ],
      "metadata": {
        "colab": {
          "base_uri": "https://localhost:8080/"
        },
        "id": "ncbvTY64cHFj",
        "outputId": "439f6bbb-f3ee-40a4-bf7d-35fcf51c28e0"
      },
      "execution_count": null,
      "outputs": [
        {
          "output_type": "execute_result",
          "data": {
            "text/plain": [
              "tensor(7)"
            ]
          },
          "metadata": {},
          "execution_count": 3
        }
      ]
    },
    {
      "cell_type": "code",
      "source": [
        "scalar.ndim"
      ],
      "metadata": {
        "colab": {
          "base_uri": "https://localhost:8080/"
        },
        "id": "9OblL4-ccuxZ",
        "outputId": "a5b6a136-58a7-49b0-a960-913ce5380ea5"
      },
      "execution_count": null,
      "outputs": [
        {
          "output_type": "execute_result",
          "data": {
            "text/plain": [
              "0"
            ]
          },
          "metadata": {},
          "execution_count": 4
        }
      ]
    },
    {
      "cell_type": "code",
      "source": [
        "#get the tensor back as python int\n",
        "scalar.item()\n"
      ],
      "metadata": {
        "colab": {
          "base_uri": "https://localhost:8080/"
        },
        "id": "SnZCd0L5c4rw",
        "outputId": "9c4c4df1-cb2a-4083-90e9-acd77f7bec6b"
      },
      "execution_count": null,
      "outputs": [
        {
          "output_type": "execute_result",
          "data": {
            "text/plain": [
              "7"
            ]
          },
          "metadata": {},
          "execution_count": 5
        }
      ]
    },
    {
      "cell_type": "code",
      "source": [
        "#vector\n",
        "vector = torch.tensor([7,4])\n",
        "vector"
      ],
      "metadata": {
        "colab": {
          "base_uri": "https://localhost:8080/"
        },
        "id": "vfDhII8HdJJ4",
        "outputId": "a2e63979-86ea-4aba-bb72-cf430fdbcd40"
      },
      "execution_count": null,
      "outputs": [
        {
          "output_type": "execute_result",
          "data": {
            "text/plain": [
              "tensor([7, 4])"
            ]
          },
          "metadata": {},
          "execution_count": 10
        }
      ]
    },
    {
      "cell_type": "code",
      "source": [
        "vector.ndim"
      ],
      "metadata": {
        "colab": {
          "base_uri": "https://localhost:8080/"
        },
        "id": "PPLOsAGJdVVc",
        "outputId": "9c68978f-8ada-4cfc-b92f-fe8d528227c7"
      },
      "execution_count": null,
      "outputs": [
        {
          "output_type": "execute_result",
          "data": {
            "text/plain": [
              "1"
            ]
          },
          "metadata": {},
          "execution_count": 11
        }
      ]
    },
    {
      "cell_type": "code",
      "source": [
        "vector.size()"
      ],
      "metadata": {
        "colab": {
          "base_uri": "https://localhost:8080/"
        },
        "id": "TP9-aEFRdkLF",
        "outputId": "8d5d1263-2b69-4fd1-ee89-780ec8e2310d"
      },
      "execution_count": null,
      "outputs": [
        {
          "output_type": "execute_result",
          "data": {
            "text/plain": [
              "torch.Size([2])"
            ]
          },
          "metadata": {},
          "execution_count": 12
        }
      ]
    },
    {
      "cell_type": "code",
      "source": [
        "MATRIX = torch.tensor([[7,8],\n",
        "                      [6,9]])\n",
        "MATRIX"
      ],
      "metadata": {
        "colab": {
          "base_uri": "https://localhost:8080/"
        },
        "id": "EDTAhUzwdq6F",
        "outputId": "0b3f8e77-5b5c-47fe-df20-46e41fff5697"
      },
      "execution_count": null,
      "outputs": [
        {
          "output_type": "execute_result",
          "data": {
            "text/plain": [
              "tensor([[7, 8],\n",
              "        [6, 9]])"
            ]
          },
          "metadata": {},
          "execution_count": 15
        }
      ]
    },
    {
      "cell_type": "code",
      "source": [
        "MATRIX.ndim"
      ],
      "metadata": {
        "colab": {
          "base_uri": "https://localhost:8080/"
        },
        "id": "el5OIYp1eEMO",
        "outputId": "e500cb6a-2d81-402a-bc52-14a3e6b0ac98"
      },
      "execution_count": null,
      "outputs": [
        {
          "output_type": "execute_result",
          "data": {
            "text/plain": [
              "2"
            ]
          },
          "metadata": {},
          "execution_count": 17
        }
      ]
    },
    {
      "cell_type": "code",
      "source": [
        "MATRIX.size()"
      ],
      "metadata": {
        "colab": {
          "base_uri": "https://localhost:8080/"
        },
        "id": "UuNG82HAeJJM",
        "outputId": "dde8070b-453d-4eb7-ca0f-4a3ff03d35bc"
      },
      "execution_count": null,
      "outputs": [
        {
          "output_type": "execute_result",
          "data": {
            "text/plain": [
              "torch.Size([2, 2])"
            ]
          },
          "metadata": {},
          "execution_count": 18
        }
      ]
    },
    {
      "cell_type": "code",
      "source": [
        "MATRIX[1]"
      ],
      "metadata": {
        "colab": {
          "base_uri": "https://localhost:8080/"
        },
        "id": "LFhWaiMyeP8o",
        "outputId": "9e4dce50-153b-49a9-b8a8-9f28d33ecbd5"
      },
      "execution_count": null,
      "outputs": [
        {
          "output_type": "execute_result",
          "data": {
            "text/plain": [
              "tensor([6, 9])"
            ]
          },
          "metadata": {},
          "execution_count": 20
        }
      ]
    },
    {
      "cell_type": "code",
      "source": [
        "#TENSOR\n",
        "TENSOR = torch.tensor([[[1,2,3],[4,5,6],[7,8,9]]])\n",
        "TENSOR"
      ],
      "metadata": {
        "colab": {
          "base_uri": "https://localhost:8080/"
        },
        "id": "K1GTANgxeXKT",
        "outputId": "88e71366-41d6-4c01-dbf0-8263f62f4881"
      },
      "execution_count": null,
      "outputs": [
        {
          "output_type": "execute_result",
          "data": {
            "text/plain": [
              "tensor([[[1, 2, 3],\n",
              "         [4, 5, 6],\n",
              "         [7, 8, 9]]])"
            ]
          },
          "metadata": {},
          "execution_count": 3
        }
      ]
    },
    {
      "cell_type": "code",
      "source": [
        "TENSOR.ndim"
      ],
      "metadata": {
        "colab": {
          "base_uri": "https://localhost:8080/"
        },
        "id": "1DDBvmxMeyih",
        "outputId": "9da9a879-7b62-48b4-9dda-35d30fc47f1f"
      },
      "execution_count": null,
      "outputs": [
        {
          "output_type": "execute_result",
          "data": {
            "text/plain": [
              "3"
            ]
          },
          "metadata": {},
          "execution_count": 25
        }
      ]
    },
    {
      "cell_type": "code",
      "source": [
        "TENSOR.size()"
      ],
      "metadata": {
        "id": "v3RmgijCe1aR",
        "outputId": "7bf2fbe4-0d1c-4d33-c00e-c1b4773ab086",
        "colab": {
          "base_uri": "https://localhost:8080/"
        }
      },
      "execution_count": null,
      "outputs": [
        {
          "output_type": "execute_result",
          "data": {
            "text/plain": [
              "torch.Size([1, 3, 3])"
            ]
          },
          "metadata": {},
          "execution_count": 7
        }
      ]
    },
    {
      "cell_type": "code",
      "source": [
        "TENSOR.shape"
      ],
      "metadata": {
        "id": "5Dny6MVSe3rY",
        "outputId": "3716ad25-55fa-407b-d85c-1741e2cdd8d3",
        "colab": {
          "base_uri": "https://localhost:8080/"
        }
      },
      "execution_count": null,
      "outputs": [
        {
          "output_type": "execute_result",
          "data": {
            "text/plain": [
              "torch.Size([1, 3, 3])"
            ]
          },
          "metadata": {},
          "execution_count": 6
        }
      ]
    },
    {
      "cell_type": "code",
      "source": [
        "TENSOR[0]"
      ],
      "metadata": {
        "colab": {
          "base_uri": "https://localhost:8080/"
        },
        "id": "m7DF9MqAleqv",
        "outputId": "47a1031d-6e86-4d7f-e718-fad47dfc2393"
      },
      "execution_count": null,
      "outputs": [
        {
          "output_type": "execute_result",
          "data": {
            "text/plain": [
              "tensor([[1, 2, 3],\n",
              "        [4, 5, 6],\n",
              "        [7, 8, 9]])"
            ]
          },
          "metadata": {},
          "execution_count": 9
        }
      ]
    },
    {
      "cell_type": "markdown",
      "source": [
        "### random tenor\n",
        "\n",
        "random tensors are important because the way neural networks learn.  they start with a tensors full of random numbers and adjust those random numbers to better represent the data\n",
        "documentation: https://pytorch.org/docs/stable/generated/torch.rand.html\n"
      ],
      "metadata": {
        "id": "4zCzInFEmQbT"
      }
    },
    {
      "cell_type": "code",
      "source": [
        "#generate random tensor\n",
        "random_tensor = torch.rand(3,4)\n",
        "random_tensor"
      ],
      "metadata": {
        "colab": {
          "base_uri": "https://localhost:8080/"
        },
        "id": "0uiQxcMBmjw1",
        "outputId": "2a77b8cc-afa1-42e3-e9af-78326d36bde8"
      },
      "execution_count": null,
      "outputs": [
        {
          "output_type": "execute_result",
          "data": {
            "text/plain": [
              "tensor([[0.0405, 0.6485, 0.4747, 0.7843],\n",
              "        [0.1237, 0.2934, 0.1304, 0.9401],\n",
              "        [0.1525, 0.3125, 0.8480, 0.1878]])"
            ]
          },
          "metadata": {},
          "execution_count": 2
        }
      ]
    },
    {
      "cell_type": "code",
      "source": [
        "random_tensor.ndim"
      ],
      "metadata": {
        "colab": {
          "base_uri": "https://localhost:8080/"
        },
        "id": "nh4gmKCpnU2H",
        "outputId": "ba8d0cc2-0065-4a7c-f418-83657048c919"
      },
      "execution_count": null,
      "outputs": [
        {
          "output_type": "execute_result",
          "data": {
            "text/plain": [
              "2"
            ]
          },
          "metadata": {},
          "execution_count": 15
        }
      ]
    },
    {
      "cell_type": "code",
      "source": [
        "#create a random tensor with similar shape to an image tensor\n",
        "random_image_tensor = torch.rand(size=(224,224,3))#height, with, colour channels\n",
        "random_image_tensor.shape,random_image_tensor.ndim"
      ],
      "metadata": {
        "colab": {
          "base_uri": "https://localhost:8080/"
        },
        "id": "_nzWyiP3nv20",
        "outputId": "7f609efc-746b-44b3-b138-ff05fb4b742a"
      },
      "execution_count": null,
      "outputs": [
        {
          "output_type": "execute_result",
          "data": {
            "text/plain": [
              "(torch.Size([224, 224, 3]), 3)"
            ]
          },
          "metadata": {},
          "execution_count": 17
        }
      ]
    },
    {
      "cell_type": "code",
      "source": [
        "#create a tensor of all zeros\n",
        "zeros = torch.zeros(size=(3,4))\n",
        "zeros"
      ],
      "metadata": {
        "colab": {
          "base_uri": "https://localhost:8080/"
        },
        "id": "Z18UWKsLDE-Y",
        "outputId": "1aff5a12-524f-40fb-ff5c-2aaf31904e6f"
      },
      "execution_count": null,
      "outputs": [
        {
          "output_type": "execute_result",
          "data": {
            "text/plain": [
              "tensor([[0., 0., 0., 0.],\n",
              "        [0., 0., 0., 0.],\n",
              "        [0., 0., 0., 0.]])"
            ]
          },
          "metadata": {},
          "execution_count": 5
        }
      ]
    },
    {
      "cell_type": "code",
      "source": [
        "zeros * random_tensor"
      ],
      "metadata": {
        "colab": {
          "base_uri": "https://localhost:8080/"
        },
        "id": "Z3ZBEX4ODRW1",
        "outputId": "6721219b-7213-457e-dddb-cdf090747a29"
      },
      "execution_count": null,
      "outputs": [
        {
          "output_type": "execute_result",
          "data": {
            "text/plain": [
              "tensor([[0., 0., 0., 0.],\n",
              "        [0., 0., 0., 0.],\n",
              "        [0., 0., 0., 0.]])"
            ]
          },
          "metadata": {},
          "execution_count": 7
        }
      ]
    },
    {
      "cell_type": "code",
      "source": [
        "#create a tensor of all ones\n",
        "ones = torch.ones(size=(3,4))\n",
        "ones"
      ],
      "metadata": {
        "colab": {
          "base_uri": "https://localhost:8080/"
        },
        "id": "8gKgGtOnDec6",
        "outputId": "5f5a9cb4-c214-451f-d7a4-0661dc67211c"
      },
      "execution_count": null,
      "outputs": [
        {
          "output_type": "execute_result",
          "data": {
            "text/plain": [
              "tensor([[1., 1., 1., 1.],\n",
              "        [1., 1., 1., 1.],\n",
              "        [1., 1., 1., 1.]])"
            ]
          },
          "metadata": {},
          "execution_count": 9
        }
      ]
    },
    {
      "cell_type": "code",
      "source": [
        "ones.dtype"
      ],
      "metadata": {
        "colab": {
          "base_uri": "https://localhost:8080/"
        },
        "id": "6u2JujaGDnM3",
        "outputId": "a602785d-2c69-40ef-8054-0310ef26e620"
      },
      "execution_count": null,
      "outputs": [
        {
          "output_type": "execute_result",
          "data": {
            "text/plain": [
              "torch.float32"
            ]
          },
          "metadata": {},
          "execution_count": 11
        }
      ]
    },
    {
      "cell_type": "markdown",
      "source": [
        "### creating a range of tensors and tensors-like\n",
        "\n",
        "*   range is deprecated, use arange\n"
      ],
      "metadata": {
        "id": "xs3qvAwMD6aa"
      }
    },
    {
      "cell_type": "code",
      "source": [
        "### creating a range of tensors\n",
        "one_to_ten = torch.arange(1,11)\n",
        "one_to_ten\n",
        "\n"
      ],
      "metadata": {
        "colab": {
          "base_uri": "https://localhost:8080/"
        },
        "id": "_J_4DBjmD2cS",
        "outputId": "a849f99b-1c40-43b4-c735-0bc858893ccb"
      },
      "execution_count": null,
      "outputs": [
        {
          "output_type": "execute_result",
          "data": {
            "text/plain": [
              "tensor([ 1,  2,  3,  4,  5,  6,  7,  8,  9, 10])"
            ]
          },
          "metadata": {},
          "execution_count": 19
        }
      ]
    },
    {
      "cell_type": "code",
      "source": [
        "jump_to_thousand = torch.arange(start= 1, end=1000, step=10)\n",
        "jump_to_thousand"
      ],
      "metadata": {
        "colab": {
          "base_uri": "https://localhost:8080/"
        },
        "id": "ss3taF-UK47w",
        "outputId": "9c204348-f6ad-43b9-fecd-15fa671eb52c"
      },
      "execution_count": null,
      "outputs": [
        {
          "output_type": "execute_result",
          "data": {
            "text/plain": [
              "tensor([  1,  11,  21,  31,  41,  51,  61,  71,  81,  91, 101, 111, 121, 131,\n",
              "        141, 151, 161, 171, 181, 191, 201, 211, 221, 231, 241, 251, 261, 271,\n",
              "        281, 291, 301, 311, 321, 331, 341, 351, 361, 371, 381, 391, 401, 411,\n",
              "        421, 431, 441, 451, 461, 471, 481, 491, 501, 511, 521, 531, 541, 551,\n",
              "        561, 571, 581, 591, 601, 611, 621, 631, 641, 651, 661, 671, 681, 691,\n",
              "        701, 711, 721, 731, 741, 751, 761, 771, 781, 791, 801, 811, 821, 831,\n",
              "        841, 851, 861, 871, 881, 891, 901, 911, 921, 931, 941, 951, 961, 971,\n",
              "        981, 991])"
            ]
          },
          "metadata": {},
          "execution_count": 20
        }
      ]
    },
    {
      "cell_type": "code",
      "source": [
        "#tensor like\n",
        "ten_zeros = torch.zeros_like(input=one_to_ten)\n",
        "ten_zeros"
      ],
      "metadata": {
        "colab": {
          "base_uri": "https://localhost:8080/"
        },
        "id": "lqRtmc6TLHdj",
        "outputId": "a81ba776-1e0c-4c20-e2e0-a57b48cf6afc"
      },
      "execution_count": null,
      "outputs": [
        {
          "output_type": "execute_result",
          "data": {
            "text/plain": [
              "tensor([0, 0, 0, 0, 0, 0, 0, 0, 0, 0])"
            ]
          },
          "metadata": {},
          "execution_count": 21
        }
      ]
    },
    {
      "cell_type": "markdown",
      "source": [
        "### tensor datatypes\n",
        "location of datatype descriptions: https://pytorch.org/docs/stable/tensors.html#data-types\n",
        "\n",
        "16 bit vergt minder rekenkracht omdat het minder bits is\n",
        "\n",
        "**note**: tensor datatypes is one of the 3 big errors you can run into with pytorch and deeplearning:\n",
        "1. tensors not the right data type\n",
        "2. tensors not in the right shape\n",
        "3. tensors not on the right device\n",
        "\n",
        "precision in computing:\n",
        "\n",
        "https://en.wikipedia.org/wiki/Precision_(computer_science)\n",
        "\n",
        "https://en.wikipedia.org/wiki/Single-precision_floating-point_format\n",
        "\n"
      ],
      "metadata": {
        "id": "75O9BbhdLXgk"
      }
    },
    {
      "cell_type": "code",
      "source": [
        "#float 32 tensor\n",
        "float_32_tensor = torch.tensor([3.0,6.00,9.0],\n",
        "                              dtype=None, #what is the datatype (float16 or float32)\n",
        "                               device=None, #what devie is the tensor on? cuda, cpu\n",
        "                               requires_grad=False) # wether or not to track the gradientst of the tensors operation\n",
        "float_32_tensor"
      ],
      "metadata": {
        "colab": {
          "base_uri": "https://localhost:8080/"
        },
        "id": "apT2Kkq7LaSP",
        "outputId": "42cd8cd7-06b3-4ed7-dd39-b012b43ab096"
      },
      "execution_count": null,
      "outputs": [
        {
          "output_type": "execute_result",
          "data": {
            "text/plain": [
              "tensor([3., 6., 9.])"
            ]
          },
          "metadata": {},
          "execution_count": 24
        }
      ]
    },
    {
      "cell_type": "code",
      "source": [
        "float_16_tensor = float_32_tensor.type(torch.float16)\n",
        "float_16_tensor"
      ],
      "metadata": {
        "colab": {
          "base_uri": "https://localhost:8080/"
        },
        "id": "xc7tb04rPDOJ",
        "outputId": "a7004511-2080-47fd-997b-af1c4c76fd4a"
      },
      "execution_count": null,
      "outputs": [
        {
          "output_type": "execute_result",
          "data": {
            "text/plain": [
              "tensor([3., 6., 9.], dtype=torch.float16)"
            ]
          },
          "metadata": {},
          "execution_count": 26
        }
      ]
    },
    {
      "cell_type": "code",
      "source": [
        "float_16_tensor * float_32_tensor"
      ],
      "metadata": {
        "colab": {
          "base_uri": "https://localhost:8080/"
        },
        "id": "eJteb77aPWDh",
        "outputId": "d097448d-3ecd-4f76-9e15-a14f054baabe"
      },
      "execution_count": null,
      "outputs": [
        {
          "output_type": "execute_result",
          "data": {
            "text/plain": [
              "tensor([ 9., 36., 81.])"
            ]
          },
          "metadata": {},
          "execution_count": 28
        }
      ]
    },
    {
      "cell_type": "code",
      "source": [
        "bit_64_tensor = torch.tensor([3,6,9], dtype=torch.long)\n"
      ],
      "metadata": {
        "id": "jsfOR9q7PceO"
      },
      "execution_count": null,
      "outputs": []
    },
    {
      "cell_type": "code",
      "source": [
        "float_32_tensor * bit_64_tensor"
      ],
      "metadata": {
        "colab": {
          "base_uri": "https://localhost:8080/"
        },
        "id": "5JZmU2uTQLaY",
        "outputId": "3b083c69-1fb6-44e3-8baa-a9653e652c81"
      },
      "execution_count": null,
      "outputs": [
        {
          "output_type": "execute_result",
          "data": {
            "text/plain": [
              "tensor([ 9., 36., 81.])"
            ]
          },
          "metadata": {},
          "execution_count": 35
        }
      ]
    },
    {
      "cell_type": "markdown",
      "source": [
        "### getting information from tensors\n",
        "tensors not the right data type - to get the datatype use tensor.dtype\n",
        "tensors not in the right shape - to get the right shape use tensor.shape\n",
        "tensors not on the right device - to get the right device use tensor.device"
      ],
      "metadata": {
        "id": "hXEJAwpDRZSs"
      }
    },
    {
      "cell_type": "code",
      "source": [
        "#create a tensor\n",
        "\n",
        "some_tensor = torch.rand(3,4)\n",
        "some_tensor"
      ],
      "metadata": {
        "colab": {
          "base_uri": "https://localhost:8080/"
        },
        "id": "Ftzv9wF5Qaj5",
        "outputId": "20e3df24-46b7-4198-8f4d-766f44bcd867"
      },
      "execution_count": null,
      "outputs": [
        {
          "output_type": "execute_result",
          "data": {
            "text/plain": [
              "tensor([[0.0057, 0.6645, 0.8162, 0.6114],\n",
              "        [0.3622, 0.1084, 0.9932, 0.5766],\n",
              "        [0.8192, 0.2788, 0.6777, 0.7796]])"
            ]
          },
          "metadata": {},
          "execution_count": 37
        }
      ]
    },
    {
      "cell_type": "code",
      "source": [
        "#find out the details\n",
        "print(some_tensor)\n",
        "print(f\"datatype of tensor: {some_tensor.dtype} \")\n",
        "print(f\"shape of the tensor: {some_tensor.shape}\")\n",
        "print(f\"device of the tensor: {some_tensor.device}\")"
      ],
      "metadata": {
        "id": "wpyOys59Q5To",
        "colab": {
          "base_uri": "https://localhost:8080/"
        },
        "outputId": "3c76ac6d-04c1-4ce2-a6fc-3900b5a30a95"
      },
      "execution_count": null,
      "outputs": [
        {
          "output_type": "stream",
          "name": "stdout",
          "text": [
            "tensor([[0.0057, 0.6645, 0.8162, 0.6114],\n",
            "        [0.3622, 0.1084, 0.9932, 0.5766],\n",
            "        [0.8192, 0.2788, 0.6777, 0.7796]])\n",
            "datatype of tensor: torch.float32 \n",
            "shape of the tensor: torch.Size([3, 4])\n",
            "device of the tensor: cpu\n"
          ]
        }
      ]
    },
    {
      "cell_type": "markdown",
      "source": [
        "### manipulating tensors (tensor operations)\n",
        "\n",
        "tensor operations include:\n",
        "+ additioin\n",
        "- subtraction\n",
        "* multiplication\n",
        "- division\n",
        "- matrix dvision (https://www.mathsisfun.com/algebra/matrix-multiplying.html)"
      ],
      "metadata": {
        "id": "UBTsvZQhUN1O"
      }
    },
    {
      "cell_type": "code",
      "source": [
        "# create a tensor and add 10\n",
        "tensor_add = torch.tensor([1,2,3])\n",
        "tensor_add + 10 #or torch.add"
      ],
      "metadata": {
        "colab": {
          "base_uri": "https://localhost:8080/"
        },
        "id": "Jiyv3evoTEy0",
        "outputId": "27bee568-c3c6-4f4e-b1d0-3c6f7efa1d03"
      },
      "execution_count": null,
      "outputs": [
        {
          "output_type": "execute_result",
          "data": {
            "text/plain": [
              "tensor([11, 12, 13])"
            ]
          },
          "metadata": {},
          "execution_count": 47
        }
      ]
    },
    {
      "cell_type": "markdown",
      "source": [
        "there are 2 types of matrix multiplication\n",
        "1. element-wise\n",
        "2. matrix multiplication (dot product)\n",
        "\n",
        "more information on matrix multiplication see url in previous text field\n",
        "\n",
        "there are 2 main rules that needs to be satisfied when  multiplying matrix:\n",
        "1. the **inner dimensions** must match:\n",
        "(3,2) @ (2,3) won't work\n",
        "(2,3) @ (3,2) will work\n",
        "(3,2) @ (2,3) will work\n",
        "2. the resulting matrix has the shape of the outer dimensions"
      ],
      "metadata": {
        "id": "M_1Jhem3TzFb"
      }
    },
    {
      "cell_type": "code",
      "source": [
        "# create a tensor and multiply by 10\n",
        "\n",
        "tensor_add * 10"
      ],
      "metadata": {
        "colab": {
          "base_uri": "https://localhost:8080/"
        },
        "id": "7nzoQmcFTvEg",
        "outputId": "11665e12-d68a-4391-f307-cfb1071b2b90"
      },
      "execution_count": null,
      "outputs": [
        {
          "output_type": "execute_result",
          "data": {
            "text/plain": [
              "tensor([10, 20, 30])"
            ]
          },
          "metadata": {},
          "execution_count": 49
        }
      ]
    },
    {
      "cell_type": "code",
      "source": [
        "tensor_add"
      ],
      "metadata": {
        "colab": {
          "base_uri": "https://localhost:8080/"
        },
        "id": "uvngUTiGUyKg",
        "outputId": "69d3d906-2c1a-4350-a2fb-e1aaa94775b9"
      },
      "execution_count": null,
      "outputs": [
        {
          "output_type": "execute_result",
          "data": {
            "text/plain": [
              "tensor([1, 2, 3])"
            ]
          },
          "metadata": {},
          "execution_count": 51
        }
      ]
    },
    {
      "cell_type": "code",
      "source": [
        "# create a tensor and substract 10\n",
        "\n",
        "tensor_add - 10"
      ],
      "metadata": {
        "colab": {
          "base_uri": "https://localhost:8080/"
        },
        "id": "m4PwKzjBU0N8",
        "outputId": "71d4a23f-011a-40fd-ddf4-468bba820d66"
      },
      "execution_count": null,
      "outputs": [
        {
          "output_type": "execute_result",
          "data": {
            "text/plain": [
              "tensor([-9, -8, -7])"
            ]
          },
          "metadata": {},
          "execution_count": 53
        }
      ]
    },
    {
      "cell_type": "code",
      "source": [
        "#element wise multiplication\n",
        "print(tensor_add,\"*\",tensor_add)\n",
        "print(f\"equals: {tensor_add*tensor_add}\")"
      ],
      "metadata": {
        "colab": {
          "base_uri": "https://localhost:8080/"
        },
        "id": "s8vVRQfGVjnr",
        "outputId": "6b58a16f-0117-46f8-8ca8-299d3e0281e8"
      },
      "execution_count": null,
      "outputs": [
        {
          "output_type": "stream",
          "name": "stdout",
          "text": [
            "tensor([1, 2, 3]) * tensor([1, 2, 3])\n",
            "equals: tensor([1, 4, 9])\n"
          ]
        }
      ]
    },
    {
      "cell_type": "code",
      "source": [
        "#matrix multiplication\n",
        "torch.matmul(tensor_add,tensor_add)"
      ],
      "metadata": {
        "colab": {
          "base_uri": "https://localhost:8080/"
        },
        "id": "XoqOPIvyWt2k",
        "outputId": "07ba6bc5-948f-46d7-e5f7-6039aa9d8a40"
      },
      "execution_count": null,
      "outputs": [
        {
          "output_type": "execute_result",
          "data": {
            "text/plain": [
              "tensor(14)"
            ]
          },
          "metadata": {},
          "execution_count": 60
        }
      ]
    },
    {
      "cell_type": "code",
      "source": [
        "%%time\n",
        "value = 0\n",
        "for i in range (len(tensor_add)):\n",
        "  value +=tensor_add[i] * tensor_add[i]\n",
        "print(value)"
      ],
      "metadata": {
        "colab": {
          "base_uri": "https://localhost:8080/"
        },
        "id": "FsqKBzzOW46q",
        "outputId": "137f051d-364a-4e3e-e1ee-e3c4f53b5cdc"
      },
      "execution_count": null,
      "outputs": [
        {
          "output_type": "stream",
          "name": "stdout",
          "text": [
            "tensor(14)\n",
            "CPU times: user 2.58 ms, sys: 18 µs, total: 2.6 ms\n",
            "Wall time: 7.51 ms\n"
          ]
        }
      ]
    },
    {
      "cell_type": "code",
      "source": [
        "%%time\n",
        "torch.matmul(tensor_add,tensor_add)"
      ],
      "metadata": {
        "colab": {
          "base_uri": "https://localhost:8080/"
        },
        "id": "vM01ednBXkDB",
        "outputId": "2eb0fa6e-99eb-4c49-84ae-cf01e7f0192c"
      },
      "execution_count": null,
      "outputs": [
        {
          "output_type": "stream",
          "name": "stdout",
          "text": [
            "CPU times: user 126 µs, sys: 0 ns, total: 126 µs\n",
            "Wall time: 132 µs\n"
          ]
        },
        {
          "output_type": "execute_result",
          "data": {
            "text/plain": [
              "tensor(14)"
            ]
          },
          "metadata": {},
          "execution_count": 68
        }
      ]
    },
    {
      "cell_type": "markdown",
      "source": [
        "### one of the most common errors in tensors is shape\n",
        "\n",
        "\n",
        "inner dimensions must match\n",
        "\n",
        "http://matrixmultiplication.xyz/"
      ],
      "metadata": {
        "id": "lY9COTlrYj13"
      }
    },
    {
      "cell_type": "code",
      "source": [
        "tensor_add @ tensor_add"
      ],
      "metadata": {
        "id": "YvOJ3nYnYIga"
      },
      "execution_count": null,
      "outputs": []
    },
    {
      "cell_type": "code",
      "source": [
        "torch.matmul(torch.rand(3,2),torch.rand(2,3)) # will work, inner dimensions the same.\n",
        "# won't work torch.matmul(torch.rand(2,3),(torch.rand(2,3)))"
      ],
      "metadata": {
        "colab": {
          "base_uri": "https://localhost:8080/"
        },
        "id": "hK4BbXwiYhDy",
        "outputId": "f7f721bb-bb46-43e5-a072-c2c2ee0d841a"
      },
      "execution_count": null,
      "outputs": [
        {
          "output_type": "execute_result",
          "data": {
            "text/plain": [
              "tensor([[0.5639, 1.0200, 0.1877],\n",
              "        [0.0909, 0.3657, 0.1133],\n",
              "        [0.3446, 0.5334, 0.0776]])"
            ]
          },
          "metadata": {},
          "execution_count": 73
        }
      ]
    },
    {
      "cell_type": "code",
      "source": [
        "# shapes for matrix multi\n",
        "\n",
        "tensor_A = torch.tensor([[1,2],\n",
        "                        [3,4],\n",
        "                        [5,6]])\n",
        "tensor_B = torch.tensor([[7,10],\n",
        "                        [8,11],\n",
        "                        [9,12]])\n",
        "\n"
      ],
      "metadata": {
        "id": "POXFp8Gmbjoe"
      },
      "execution_count": null,
      "outputs": []
    },
    {
      "cell_type": "code",
      "source": [
        "print(tensor_A.shape)\n",
        "print(tensor_B.shape)"
      ],
      "metadata": {
        "colab": {
          "base_uri": "https://localhost:8080/"
        },
        "id": "CUCRHybMdEvZ",
        "outputId": "0637c4ab-d6e8-4951-ce4c-d87ba6dc3658"
      },
      "execution_count": null,
      "outputs": [
        {
          "output_type": "stream",
          "name": "stdout",
          "text": [
            "torch.Size([3, 2])\n",
            "torch.Size([3, 2])\n"
          ]
        }
      ]
    },
    {
      "cell_type": "markdown",
      "source": [
        "to fix our tensor shape issues we can manipulate the shape of one of our tensors using **transpose**"
      ],
      "metadata": {
        "id": "QjVjKw1QdwJx"
      }
    },
    {
      "cell_type": "code",
      "source": [
        "tensor_B.T"
      ],
      "metadata": {
        "colab": {
          "base_uri": "https://localhost:8080/"
        },
        "id": "8mRndcWkd_Ak",
        "outputId": "9150564f-55b9-4d81-a918-089b72f57ffb"
      },
      "execution_count": null,
      "outputs": [
        {
          "output_type": "execute_result",
          "data": {
            "text/plain": [
              "tensor([[ 7,  8,  9],\n",
              "        [10, 11, 12]])"
            ]
          },
          "metadata": {},
          "execution_count": 83
        }
      ]
    },
    {
      "cell_type": "code",
      "source": [
        "# this will give an error because inner dimensions don't match -> torch.mm(tensor_A,tensor_B) #torch.mm is matmul alias\n",
        "# torch.mm(tensor_A,tensor_B.T) #this does work, because we transpose tensor_B\n",
        "\n",
        "print (f\"original shape of tensor_A: {tensor_A.shape}, tensor_B: {tensor_B.shape}\")\n",
        "print(f\"transposed tensor_B: {tensor_B.T}\")\n",
        "print(f\"multiplying these: {tensor_A.shape} @ {tensor_B.T.shape} <- innner dimensions match\")\n",
        "print(\"output: \")\n",
        "output=torch.mm(tensor_A,tensor_B.T)\n",
        "print(output)\n",
        "print(f\"output shape: {output.shape}\")"
      ],
      "metadata": {
        "colab": {
          "base_uri": "https://localhost:8080/"
        },
        "id": "PiW1U1lmdP3A",
        "outputId": "e7e3ebf6-a27f-46b6-b22e-bba9aa7a0bc7"
      },
      "execution_count": null,
      "outputs": [
        {
          "output_type": "stream",
          "name": "stdout",
          "text": [
            "original shape of tensor_A: torch.Size([3, 2]), tensor_B: torch.Size([3, 2])\n",
            "transposed tensor_B: tensor([[ 7,  8,  9],\n",
            "        [10, 11, 12]])\n",
            "multiplying these: torch.Size([3, 2]) @ torch.Size([2, 3]) <- innner dimensions match\n",
            "output: \n",
            "tensor([[ 27,  30,  33],\n",
            "        [ 61,  68,  75],\n",
            "        [ 95, 106, 117]])\n",
            "output shape: torch.Size([3, 3])\n"
          ]
        }
      ]
    },
    {
      "cell_type": "markdown",
      "source": [
        "### finding the MIN, MAX, MEAN, SUM, ETC (tensor aggregation)"
      ],
      "metadata": {
        "id": "NbwTaQQnhdWh"
      }
    },
    {
      "cell_type": "code",
      "source": [
        "#create a tensor\n",
        "x = torch.arange(0,100,10)\n",
        "x\n",
        "x.dtype"
      ],
      "metadata": {
        "colab": {
          "base_uri": "https://localhost:8080/"
        },
        "id": "iHSB3j4ShcN2",
        "outputId": "7b6ed3d1-ecb3-4b99-b177-36d43f753332"
      },
      "execution_count": null,
      "outputs": [
        {
          "output_type": "execute_result",
          "data": {
            "text/plain": [
              "torch.int64"
            ]
          },
          "metadata": {},
          "execution_count": 97
        }
      ]
    },
    {
      "cell_type": "code",
      "source": [
        "#find the MIN\n",
        "torch.min(x), x.min()"
      ],
      "metadata": {
        "colab": {
          "base_uri": "https://localhost:8080/"
        },
        "id": "NcannEbrhyK-",
        "outputId": "000450d9-0db9-4600-a8c0-902ca58d1cf8"
      },
      "execution_count": null,
      "outputs": [
        {
          "output_type": "execute_result",
          "data": {
            "text/plain": [
              "(tensor(0), tensor(0))"
            ]
          },
          "metadata": {},
          "execution_count": 94
        }
      ]
    },
    {
      "cell_type": "code",
      "source": [
        "#find the MAX\n",
        "torch.max(x), x.max()"
      ],
      "metadata": {
        "colab": {
          "base_uri": "https://localhost:8080/"
        },
        "id": "XlC1C0jIh-8H",
        "outputId": "b7830ba2-eaeb-4cde-aeec-cf6b1b4642fd"
      },
      "execution_count": null,
      "outputs": [
        {
          "output_type": "execute_result",
          "data": {
            "text/plain": [
              "(tensor(90), tensor(90))"
            ]
          },
          "metadata": {},
          "execution_count": 96
        }
      ]
    },
    {
      "cell_type": "code",
      "source": [
        "# find the mean, but datatype needs to be float\n",
        "torch.mean(x.type(torch.float32)), x.type(torch.float32).mean ()"
      ],
      "metadata": {
        "colab": {
          "base_uri": "https://localhost:8080/"
        },
        "id": "Q6jtiv_wiGko",
        "outputId": "ec46e594-3aa8-4b9a-fabc-058224df7524"
      },
      "execution_count": null,
      "outputs": [
        {
          "output_type": "execute_result",
          "data": {
            "text/plain": [
              "(tensor(45.), tensor(45.))"
            ]
          },
          "metadata": {},
          "execution_count": 101
        }
      ]
    },
    {
      "cell_type": "code",
      "source": [
        "#find the sum\n",
        "torch.sum(x), x.sum()"
      ],
      "metadata": {
        "colab": {
          "base_uri": "https://localhost:8080/"
        },
        "id": "NNIUEao5iz0L",
        "outputId": "af1f6ea4-9c86-4329-8956-5655363324bf"
      },
      "execution_count": null,
      "outputs": [
        {
          "output_type": "execute_result",
          "data": {
            "text/plain": [
              "(tensor(450), tensor(450))"
            ]
          },
          "metadata": {},
          "execution_count": 103
        }
      ]
    },
    {
      "cell_type": "markdown",
      "source": [
        "### finding odd max and odd min"
      ],
      "metadata": {
        "id": "qQhNO9WajAou"
      }
    },
    {
      "cell_type": "code",
      "source": [
        "#finding the positional min and max\n",
        "print(x.argmin())\n",
        "print(x.argmax())"
      ],
      "metadata": {
        "colab": {
          "base_uri": "https://localhost:8080/"
        },
        "id": "zyhxNKK9jIqY",
        "outputId": "4c52c3ef-a92a-431f-97b6-04d2beb9b790"
      },
      "execution_count": null,
      "outputs": [
        {
          "output_type": "stream",
          "name": "stdout",
          "text": [
            "tensor(0)\n",
            "tensor(9)\n"
          ]
        }
      ]
    },
    {
      "cell_type": "markdown",
      "source": [
        "## reshaping, stacking, squeezing and unsqueezing tensors\n",
        "* reshaping - reshapes an input tensor to a defined shape\n",
        "* view - return a view of an input tensor fo certain shape but keep the same memory as the original torch.tensor\n",
        "*sttacking - coming multiple tensors on top of each other (vsttack) or side by side (hstack)\n",
        "* squeeze - removes all 1 dimensions from a tensor\n",
        "* unsqueeze -^add a 1 dimension to a target tensorm\n",
        "*permute - return a view of the input with dimensions permuted (swapped) in a certain way\n"
      ],
      "metadata": {
        "id": "RX1mkFt6q7K-"
      }
    },
    {
      "cell_type": "code",
      "source": [
        "#create a tensor\n",
        "new_x = torch.arange(1.,10.)\n",
        "new_x, new_x.shape, new_x.dtype"
      ],
      "metadata": {
        "colab": {
          "base_uri": "https://localhost:8080/"
        },
        "id": "Ifezv3oxsoBe",
        "outputId": "289dfb20-ec0b-4d56-9f69-2c1842786645"
      },
      "execution_count": null,
      "outputs": [
        {
          "output_type": "execute_result",
          "data": {
            "text/plain": [
              "(tensor([1., 2., 3., 4., 5., 6., 7., 8., 9.]), torch.Size([9]), torch.float32)"
            ]
          },
          "metadata": {},
          "execution_count": 112
        }
      ]
    },
    {
      "cell_type": "code",
      "source": [
        "#add an extra dimension\n",
        "new_x_reshaped = new_x.reshape(9,1)\n",
        "new_x_reshaped, new_x_reshaped.shape"
      ],
      "metadata": {
        "colab": {
          "base_uri": "https://localhost:8080/"
        },
        "id": "53xDvTVTtBgW",
        "outputId": "35337ea1-5f28-4dfb-b6b1-2fed0547a261"
      },
      "execution_count": null,
      "outputs": [
        {
          "output_type": "execute_result",
          "data": {
            "text/plain": [
              "(tensor([[1.],\n",
              "         [2.],\n",
              "         [3.],\n",
              "         [4.],\n",
              "         [5.],\n",
              "         [6.],\n",
              "         [7.],\n",
              "         [8.],\n",
              "         [9.]]),\n",
              " torch.Size([9, 1]))"
            ]
          },
          "metadata": {},
          "execution_count": 115
        }
      ]
    },
    {
      "cell_type": "code",
      "source": [
        "other_new_x = torch.arange(1,11)\n",
        "other_new_x"
      ],
      "metadata": {
        "colab": {
          "base_uri": "https://localhost:8080/"
        },
        "id": "8l6X4DAPw4_r",
        "outputId": "2307f391-5f3f-4e42-e6b6-c35c060f369b"
      },
      "execution_count": null,
      "outputs": [
        {
          "output_type": "execute_result",
          "data": {
            "text/plain": [
              "tensor([ 1,  2,  3,  4,  5,  6,  7,  8,  9, 10])"
            ]
          },
          "metadata": {},
          "execution_count": 119
        }
      ]
    },
    {
      "cell_type": "code",
      "source": [
        "reshape_other_new_x = other_new_x.reshape(2,5)\n",
        "reshape_other_new_x"
      ],
      "metadata": {
        "colab": {
          "base_uri": "https://localhost:8080/"
        },
        "id": "srA0Lbf1xFeA",
        "outputId": "eb8c2514-66b7-4e2d-a21d-664ba7adad60"
      },
      "execution_count": null,
      "outputs": [
        {
          "output_type": "execute_result",
          "data": {
            "text/plain": [
              "tensor([[ 1,  2,  3,  4,  5],\n",
              "        [ 6,  7,  8,  9, 10]])"
            ]
          },
          "metadata": {},
          "execution_count": 120
        }
      ]
    },
    {
      "cell_type": "code",
      "source": [
        "#change the view"
      ],
      "metadata": {
        "id": "BJAPSEK0ws1e"
      },
      "execution_count": null,
      "outputs": []
    }
  ]
}