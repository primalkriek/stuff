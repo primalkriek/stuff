{
  "nbformat": 4,
  "nbformat_minor": 0,
  "metadata": {
    "colab": {
      "provenance": [],
      "toc_visible": true,
      "gpuType": "T4",
      "authorship_tag": "ABX9TyN+5eoFGLY0uNtzLL5bTKkE",
      "include_colab_link": true
    },
    "kernelspec": {
      "name": "python3",
      "display_name": "Python 3"
    },
    "language_info": {
      "name": "python"
    },
    "accelerator": "GPU"
  },
  "cells": [
    {
      "cell_type": "markdown",
      "metadata": {
        "id": "view-in-github",
        "colab_type": "text"
      },
      "source": [
        "<a href=\"https://colab.research.google.com/github/primalkriek/stuff/blob/main/tensor_curving.ipynb\" target=\"_parent\"><img src=\"https://colab.research.google.com/assets/colab-badge.svg\" alt=\"Open In Colab\"/></a>"
      ]
    },
    {
      "cell_type": "markdown",
      "source": [
        "### indexing (selecting data from tensors)\n",
        "\n",
        "indexing with pytorch is similar to indexing with numpy"
      ],
      "metadata": {
        "id": "shLZ5XBuB4vk"
      }
    },
    {
      "cell_type": "code",
      "source": [
        "# create a tensor\n",
        "import torch\n",
        "x = torch.arange(1,10).reshape(1,3,3)\n",
        "x, x.shape\n"
      ],
      "metadata": {
        "colab": {
          "base_uri": "https://localhost:8080/"
        },
        "id": "slXz1rjRCOCM",
        "outputId": "e444f4cb-7c43-440b-cbee-446e50e96b39"
      },
      "execution_count": 2,
      "outputs": [
        {
          "output_type": "execute_result",
          "data": {
            "text/plain": [
              "(tensor([[[1, 2, 3],\n",
              "          [4, 5, 6],\n",
              "          [7, 8, 9]]]),\n",
              " torch.Size([1, 3, 3]))"
            ]
          },
          "metadata": {},
          "execution_count": 2
        }
      ]
    },
    {
      "cell_type": "code",
      "source": [
        "# let's index on our new tensor\n",
        "x[0]"
      ],
      "metadata": {
        "colab": {
          "base_uri": "https://localhost:8080/"
        },
        "id": "_0QWgtfNCm4g",
        "outputId": "9b912438-4cfe-478a-8246-ba17655afad1"
      },
      "execution_count": 3,
      "outputs": [
        {
          "output_type": "execute_result",
          "data": {
            "text/plain": [
              "tensor([[1, 2, 3],\n",
              "        [4, 5, 6],\n",
              "        [7, 8, 9]])"
            ]
          },
          "metadata": {},
          "execution_count": 3
        }
      ]
    },
    {
      "cell_type": "code",
      "source": [
        "# let's index on the middle bracket\n",
        "x[0][0]"
      ],
      "metadata": {
        "colab": {
          "base_uri": "https://localhost:8080/"
        },
        "id": "CRicikU3CsSo",
        "outputId": "a27c52a3-2891-49e0-a62a-889a786ff842"
      },
      "execution_count": 4,
      "outputs": [
        {
          "output_type": "execute_result",
          "data": {
            "text/plain": [
              "tensor([1, 2, 3])"
            ]
          },
          "metadata": {},
          "execution_count": 4
        }
      ]
    },
    {
      "cell_type": "code",
      "source": [
        "# let's index on inner bracket\n",
        "x[0][2][2]"
      ],
      "metadata": {
        "colab": {
          "base_uri": "https://localhost:8080/"
        },
        "id": "O2ETOGl8C0aL",
        "outputId": "1cf07e36-2fb6-4b07-b048-f906a582264b"
      },
      "execution_count": 10,
      "outputs": [
        {
          "output_type": "execute_result",
          "data": {
            "text/plain": [
              "tensor(9)"
            ]
          },
          "metadata": {},
          "execution_count": 10
        }
      ]
    },
    {
      "cell_type": "code",
      "source": [
        "# a : can also be used to select all of a target dimension\n",
        "x[:,0]"
      ],
      "metadata": {
        "colab": {
          "base_uri": "https://localhost:8080/"
        },
        "id": "HMZyYvDmDP_B",
        "outputId": "f3f28868-9829-42f0-cb68-c1d1e729b1e9"
      },
      "execution_count": 12,
      "outputs": [
        {
          "output_type": "execute_result",
          "data": {
            "text/plain": [
              "tensor([[1, 2, 3]])"
            ]
          },
          "metadata": {},
          "execution_count": 12
        }
      ]
    },
    {
      "cell_type": "code",
      "source": [
        "# get all values of the 0th dimension and 1st dimension but only index 1 of 2nd dimension\n",
        "x[:,:,1]"
      ],
      "metadata": {
        "colab": {
          "base_uri": "https://localhost:8080/"
        },
        "id": "Rkb8_cTODkjK",
        "outputId": "3a771476-1ece-4eec-eabb-aacf2f53a60f"
      },
      "execution_count": 15,
      "outputs": [
        {
          "output_type": "execute_result",
          "data": {
            "text/plain": [
              "tensor([[2, 5, 8]])"
            ]
          },
          "metadata": {},
          "execution_count": 15
        }
      ]
    },
    {
      "cell_type": "code",
      "source": [
        "# get all values of the 0 dimension but only the 1 index value of 1st and 2nd dimension\n",
        "# watch specifically that there are square brackets around the 5, in codeblock 10 it is only brackets returned\n",
        "x[:,1,1]"
      ],
      "metadata": {
        "colab": {
          "base_uri": "https://localhost:8080/"
        },
        "id": "6KF26n5iD-WK",
        "outputId": "7f9c9228-22d4-4716-e0be-9067346d63c0"
      },
      "execution_count": 17,
      "outputs": [
        {
          "output_type": "execute_result",
          "data": {
            "text/plain": [
              "tensor([5])"
            ]
          },
          "metadata": {},
          "execution_count": 17
        }
      ]
    },
    {
      "cell_type": "code",
      "source": [
        "#index on x to return 9\n",
        "print(x[:,2,2])\n",
        "print(x[0][2][2])\n"
      ],
      "metadata": {
        "colab": {
          "base_uri": "https://localhost:8080/"
        },
        "id": "ayqGH5FzEqRp",
        "outputId": "71b876f6-b5e5-4f6d-b021-8a149e16d74d"
      },
      "execution_count": 32,
      "outputs": [
        {
          "output_type": "stream",
          "name": "stdout",
          "text": [
            "tensor([9])\n",
            "tensor(9)\n"
          ]
        }
      ]
    },
    {
      "cell_type": "code",
      "source": [
        "# index on x to return 3,6,9\n",
        "x[:,:,2]"
      ],
      "metadata": {
        "colab": {
          "base_uri": "https://localhost:8080/"
        },
        "id": "v6A2lR6jFwHK",
        "outputId": "c5e26521-ef1c-4f22-810c-51f0e8499766"
      },
      "execution_count": 30,
      "outputs": [
        {
          "output_type": "execute_result",
          "data": {
            "text/plain": [
              "tensor([[3, 6, 9]])"
            ]
          },
          "metadata": {},
          "execution_count": 30
        }
      ]
    },
    {
      "cell_type": "markdown",
      "source": [
        "### pytorch and numpy\n",
        "numpy is a popular scientific python numerical computing torch.library, and because of this Pytorch has functionality to interact with it\n",
        "* data in numpy, want in pytorch tensor -> torch.torch.from_numpy(ndarray)\n",
        "* pytorch tensor -> numpy -> torch.tensor.numpy()\n"
      ],
      "metadata": {
        "id": "P2t0aH0-F-N1"
      }
    },
    {
      "cell_type": "code",
      "source": [
        "# numpy array to tensor\n",
        "import torch\n",
        "import numpy as np\n",
        "array = np.arange(1.0,8.0)\n",
        "tensor = torch.from_numpy(array) #warning when converting from numpy to pytorch, pytorch reflects default numpy datatype of float64\n",
        "array, tensor"
      ],
      "metadata": {
        "colab": {
          "base_uri": "https://localhost:8080/"
        },
        "id": "ZN2pdxsEG8td",
        "outputId": "488156a7-8281-4cbb-bae2-966ba9fa88ec"
      },
      "execution_count": 35,
      "outputs": [
        {
          "output_type": "execute_result",
          "data": {
            "text/plain": [
              "(array([1., 2., 3., 4., 5., 6., 7.]),\n",
              " tensor([1., 2., 3., 4., 5., 6., 7.], dtype=torch.float64))"
            ]
          },
          "metadata": {},
          "execution_count": 35
        }
      ]
    },
    {
      "cell_type": "code",
      "source": [
        "#change the value of array\n",
        "array = array +1\n",
        "array, tensor"
      ],
      "metadata": {
        "colab": {
          "base_uri": "https://localhost:8080/"
        },
        "id": "lccm9oejHneW",
        "outputId": "ee8bf2d4-4930-4594-c6aa-4e328f56320a"
      },
      "execution_count": 37,
      "outputs": [
        {
          "output_type": "execute_result",
          "data": {
            "text/plain": [
              "(array([3., 4., 5., 6., 7., 8., 9.]),\n",
              " tensor([1., 2., 3., 4., 5., 6., 7.], dtype=torch.float64))"
            ]
          },
          "metadata": {},
          "execution_count": 37
        }
      ]
    },
    {
      "cell_type": "code",
      "source": [
        "# from pytorch to numpy\n",
        "tensor = torch.ones(7)\n",
        "numpy_tensor = tensor.numpy()\n",
        "tensor, numpy_tensor # again warning the tensor default type gets reflected in numpy array"
      ],
      "metadata": {
        "colab": {
          "base_uri": "https://localhost:8080/"
        },
        "id": "F6x51gRFH40Z",
        "outputId": "0e0fec1c-b050-49c7-d3bf-c1839a71517b"
      },
      "execution_count": 39,
      "outputs": [
        {
          "output_type": "execute_result",
          "data": {
            "text/plain": [
              "(tensor([1., 1., 1., 1., 1., 1., 1.]),\n",
              " array([1., 1., 1., 1., 1., 1., 1.], dtype=float32))"
            ]
          },
          "metadata": {},
          "execution_count": 39
        }
      ]
    },
    {
      "cell_type": "code",
      "source": [
        "#what happens when we change the tensor\n",
        "tensor = tensor +1\n",
        "tensor, numpy_tensor"
      ],
      "metadata": {
        "colab": {
          "base_uri": "https://localhost:8080/"
        },
        "id": "sXVIBbudIOOK",
        "outputId": "00a97e0f-91c5-48cd-e145-3d393d16f490"
      },
      "execution_count": 41,
      "outputs": [
        {
          "output_type": "execute_result",
          "data": {
            "text/plain": [
              "(tensor([3., 3., 3., 3., 3., 3., 3.]),\n",
              " array([1., 1., 1., 1., 1., 1., 1.], dtype=float32))"
            ]
          },
          "metadata": {},
          "execution_count": 41
        }
      ]
    },
    {
      "cell_type": "markdown",
      "source": [
        "## reproducibility (trying to take the random out of random)\n",
        "a neural network learns like this:\n",
        "start with random number -> tensor operations -> update random numbers to try and make them representations of the data -> again -> again -> again\n",
        "\n",
        "to reduce the randomness in neural networks and pytorch comes the concept of random seed\n",
        "\n",
        "essentaially what the random seed does is flavour the randomness"
      ],
      "metadata": {
        "id": "u_ky_R6oIeN8"
      }
    },
    {
      "cell_type": "code",
      "source": [
        "import torch\n",
        "#create random tensors\n",
        "tensora = torch.rand(3,4)\n",
        "tensorb = torch.rand(3,4)\n",
        "\n",
        "print(tensora)\n",
        "print(tensorb)\n",
        "print(tensora == tensorb)"
      ],
      "metadata": {
        "colab": {
          "base_uri": "https://localhost:8080/"
        },
        "id": "rXOlHH2SJBJI",
        "outputId": "bd27af53-f22d-43ed-f5d4-b9050bb52416"
      },
      "execution_count": 47,
      "outputs": [
        {
          "output_type": "stream",
          "name": "stdout",
          "text": [
            "tensor([[0.0011, 0.2983, 0.6977, 0.8724],\n",
            "        [0.2131, 0.4755, 0.2316, 0.1943],\n",
            "        [0.0301, 0.7232, 0.0186, 0.4213]])\n",
            "tensor([[0.1823, 0.4229, 0.6875, 0.7398],\n",
            "        [0.2844, 0.8990, 0.5944, 0.5281],\n",
            "        [0.2989, 0.4665, 0.9185, 0.4963]])\n",
            "tensor([[False, False, False, False],\n",
            "        [False, False, False, False],\n",
            "        [False, False, False, False]])\n"
          ]
        }
      ]
    },
    {
      "cell_type": "code",
      "source": [
        "#random but reproducible tensors\n",
        "import torch\n",
        "\n",
        "#random seed\n",
        "RANDOM_SEED = 49\n",
        "torch.manual_seed(RANDOM_SEED)\n",
        "tensorc = torch.rand(3,4)\n",
        "torch.manual_seed(RANDOM_SEED) #needs to be done when calling the torch.rand again\n",
        "tensord = torch.rand(3,4)\n",
        "\n",
        "print(tensorc)\n",
        "print(tensord)\n",
        "print(tensorc == tensord)"
      ],
      "metadata": {
        "colab": {
          "base_uri": "https://localhost:8080/"
        },
        "id": "WRJxQeyoJXVO",
        "outputId": "7b2e9635-1402-4155-9eea-205754bfda32"
      },
      "execution_count": 50,
      "outputs": [
        {
          "output_type": "stream",
          "name": "stdout",
          "text": [
            "tensor([[0.0469, 0.2767, 0.2478, 0.9267],\n",
            "        [0.1418, 0.7192, 0.2505, 0.2332],\n",
            "        [0.9189, 0.6753, 0.1225, 0.2415]])\n",
            "tensor([[0.0469, 0.2767, 0.2478, 0.9267],\n",
            "        [0.1418, 0.7192, 0.2505, 0.2332],\n",
            "        [0.9189, 0.6753, 0.1225, 0.2415]])\n",
            "tensor([[True, True, True, True],\n",
            "        [True, True, True, True],\n",
            "        [True, True, True, True]])\n"
          ]
        }
      ]
    },
    {
      "cell_type": "markdown",
      "source": [
        "https://pytorch.org/docs/stable/notes/randomness.html\n",
        "\n",
        "https://www.w3schools.com/python/ref_random_seed.asp\n"
      ],
      "metadata": {
        "id": "aWeeG_RWLEH0"
      }
    },
    {
      "cell_type": "markdown",
      "source": [
        "## running tensors and pytorch object run on GPU and make them faster\n",
        "\n",
        "GPU = cuda + nvidia hardware + pytorch working behind the scenes"
      ],
      "metadata": {
        "id": "ZEmkBmOjLQnI"
      }
    },
    {
      "cell_type": "markdown",
      "source": [
        "### getting a gpu\n",
        "1. easiest - use colab for a free gpu (or upgrade)\n",
        "2. use your own gpu\n",
        "3. use cloud computing GCP, AWS,"
      ],
      "metadata": {
        "id": "_1p6NXsgLhcR"
      }
    },
    {
      "cell_type": "code",
      "source": [
        "!nvidia-smi"
      ],
      "metadata": {
        "colab": {
          "base_uri": "https://localhost:8080/"
        },
        "id": "6ItAlNaSMj_F",
        "outputId": "00dcb973-8571-47bf-94a1-781ac803d659"
      },
      "execution_count": 1,
      "outputs": [
        {
          "output_type": "stream",
          "name": "stdout",
          "text": [
            "Wed Sep 20 20:09:22 2023       \n",
            "+-----------------------------------------------------------------------------+\n",
            "| NVIDIA-SMI 525.105.17   Driver Version: 525.105.17   CUDA Version: 12.0     |\n",
            "|-------------------------------+----------------------+----------------------+\n",
            "| GPU  Name        Persistence-M| Bus-Id        Disp.A | Volatile Uncorr. ECC |\n",
            "| Fan  Temp  Perf  Pwr:Usage/Cap|         Memory-Usage | GPU-Util  Compute M. |\n",
            "|                               |                      |               MIG M. |\n",
            "|===============================+======================+======================|\n",
            "|   0  Tesla T4            Off  | 00000000:00:04.0 Off |                    0 |\n",
            "| N/A   55C    P8     9W /  70W |      0MiB / 15360MiB |      0%      Default |\n",
            "|                               |                      |                  N/A |\n",
            "+-------------------------------+----------------------+----------------------+\n",
            "                                                                               \n",
            "+-----------------------------------------------------------------------------+\n",
            "| Processes:                                                                  |\n",
            "|  GPU   GI   CI        PID   Type   Process name                  GPU Memory |\n",
            "|        ID   ID                                                   Usage      |\n",
            "|=============================================================================|\n",
            "|  No running processes found                                                 |\n",
            "+-----------------------------------------------------------------------------+\n"
          ]
        }
      ]
    },
    {
      "cell_type": "code",
      "source": [
        "import torch\n",
        "torch.cuda.is_available()"
      ],
      "metadata": {
        "colab": {
          "base_uri": "https://localhost:8080/"
        },
        "id": "YMVXOqkdNTqg",
        "outputId": "207e2ece-c9f6-4957-df8d-e753df56a6f8"
      },
      "execution_count": 3,
      "outputs": [
        {
          "output_type": "execute_result",
          "data": {
            "text/plain": [
              "True"
            ]
          },
          "metadata": {},
          "execution_count": 3
        }
      ]
    },
    {
      "cell_type": "code",
      "source": [
        "#setup device agnostic code\n",
        "device = \"cuda\" if torch.cuda.is_available() else \"cpu\"\n",
        "device"
      ],
      "metadata": {
        "colab": {
          "base_uri": "https://localhost:8080/",
          "height": 35
        },
        "id": "bdM1nExUNlE9",
        "outputId": "7935e187-9eb5-4185-c400-5e3d5f2c8c3d"
      },
      "execution_count": 5,
      "outputs": [
        {
          "output_type": "execute_result",
          "data": {
            "text/plain": [
              "'cuda'"
            ],
            "application/vnd.google.colaboratory.intrinsic+json": {
              "type": "string"
            }
          },
          "metadata": {},
          "execution_count": 5
        }
      ]
    },
    {
      "cell_type": "markdown",
      "source": [
        "for pytorch since it is capable of computing on the gpu it is best to check what is available, device agnostic code\n",
        "https://pytorch.org/docs/stable/notes/cuda.html#best-practices"
      ],
      "metadata": {
        "id": "6R5gz_OhOP5d"
      }
    },
    {
      "cell_type": "code",
      "source": [
        "torch.cuda.device_count()"
      ],
      "metadata": {
        "colab": {
          "base_uri": "https://localhost:8080/"
        },
        "id": "IcKua3aHN01Q",
        "outputId": "4fdb39a7-35f7-43df-a43b-30e246d3a30b"
      },
      "execution_count": 7,
      "outputs": [
        {
          "output_type": "execute_result",
          "data": {
            "text/plain": [
              "1"
            ]
          },
          "metadata": {},
          "execution_count": 7
        }
      ]
    },
    {
      "cell_type": "markdown",
      "source": [
        "### putting tensors and models on the GPU\n",
        "\n",
        "for faster computation of course\n"
      ],
      "metadata": {
        "id": "SD6Fjpe3O4AF"
      }
    },
    {
      "cell_type": "code",
      "source": [
        "# create a tensor default on cpu\n",
        "tensor = torch.tensor([1,2,3])\n",
        "\n",
        "# not on gpu, check\n",
        "print(tensor, tensor.device)"
      ],
      "metadata": {
        "colab": {
          "base_uri": "https://localhost:8080/"
        },
        "id": "n-WhenZEPO1v",
        "outputId": "740c4394-db9d-4cb3-d63c-a058e9e7287d"
      },
      "execution_count": 9,
      "outputs": [
        {
          "output_type": "stream",
          "name": "stdout",
          "text": [
            "tensor([1, 2, 3]) cpu\n"
          ]
        }
      ]
    },
    {
      "cell_type": "code",
      "source": [
        "#putting tensor on gpu\n",
        "tensor_ongpu = tensor.to(device)\n",
        "tensor_ongpu\n"
      ],
      "metadata": {
        "colab": {
          "base_uri": "https://localhost:8080/"
        },
        "id": "Fh1s065aPiKw",
        "outputId": "83caee69-b7e5-4d6a-8052-2fbe2200834f"
      },
      "execution_count": 11,
      "outputs": [
        {
          "output_type": "execute_result",
          "data": {
            "text/plain": [
              "tensor([1, 2, 3], device='cuda:0')"
            ]
          },
          "metadata": {},
          "execution_count": 11
        }
      ]
    },
    {
      "cell_type": "markdown",
      "source": [
        "### move tensors back to cpu because numpy runs only on cpu\n"
      ],
      "metadata": {
        "id": "CbNIzkxAPsXY"
      }
    },
    {
      "cell_type": "code",
      "source": [
        "#tensor is on gpu\n",
        "#put it back on CPU\n",
        "tensor_backtocpu = tensor_ongpu.cpu()\n",
        "tensor_backtocpu.numpy()"
      ],
      "metadata": {
        "colab": {
          "base_uri": "https://localhost:8080/"
        },
        "id": "YYiI0aGjPzp6",
        "outputId": "29c704bc-d525-4c06-e479-09bc0eda98a7"
      },
      "execution_count": 15,
      "outputs": [
        {
          "output_type": "execute_result",
          "data": {
            "text/plain": [
              "array([1, 2, 3])"
            ]
          },
          "metadata": {},
          "execution_count": 15
        }
      ]
    },
    {
      "cell_type": "code",
      "source": [],
      "metadata": {
        "id": "0o70vnwfQFcs"
      },
      "execution_count": 14,
      "outputs": []
    }
  ]
}